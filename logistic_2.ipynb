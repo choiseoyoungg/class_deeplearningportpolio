{
  "nbformat": 4,
  "nbformat_minor": 0,
  "metadata": {
    "colab": {
      "provenance": [],
      "authorship_tag": "ABX9TyPpZCj1l21MMakYLZtCUkJw",
      "include_colab_link": true
    },
    "kernelspec": {
      "name": "python3",
      "display_name": "Python 3"
    },
    "language_info": {
      "name": "python"
    }
  },
  "cells": [
    {
      "cell_type": "markdown",
      "metadata": {
        "id": "view-in-github",
        "colab_type": "text"
      },
      "source": [
        "<a href=\"https://colab.research.google.com/github/choiseoyoungg/class_deeplearningportpolio/blob/main/logistic_2.ipynb\" target=\"_parent\"><img src=\"https://colab.research.google.com/assets/colab-badge.svg\" alt=\"Open In Colab\"/></a>"
      ]
    },
    {
      "cell_type": "code",
      "execution_count": null,
      "metadata": {
        "id": "AEk2z8B9hOUn"
      },
      "outputs": [],
      "source": []
    },
    {
      "cell_type": "markdown",
      "source": [],
      "metadata": {
        "id": "epnPnN7WXp-E"
      }
    },
    {
      "cell_type": "markdown",
      "source": [
        "2"
      ],
      "metadata": {
        "id": "7FEBaV1xhaoe"
      }
    },
    {
      "cell_type": "code",
      "source": [
        "from sklearn.metrics import confusion_matrix\n",
        "from sklearn.metrics import accuracy_score\n",
        "from sklearn.metrics import classification_report"
      ],
      "metadata": {
        "id": "mTYqT74-hbQa"
      },
      "execution_count": 1,
      "outputs": []
    },
    {
      "cell_type": "code",
      "source": [
        "#confusion matrix\n",
        "\n",
        "y_actual=[1,1,0,1,0,0,1,0,0,0]\n",
        "y_predicted=[1,0,0,1,0,0,1,1,1,0]\n"
      ],
      "metadata": {
        "id": "Gy6C5IbfhlxD"
      },
      "execution_count": 2,
      "outputs": []
    },
    {
      "cell_type": "code",
      "source": [
        "CM=confusion_matrix(y_actual,y_predicted)\n",
        "print('Confusion Matrix=\\n',CM)"
      ],
      "metadata": {
        "colab": {
          "base_uri": "https://localhost:8080/"
        },
        "id": "Bx95kAXLhwGg",
        "outputId": "771b090a-37ad-4ccc-abee-920d07c06923"
      },
      "execution_count": 3,
      "outputs": [
        {
          "output_type": "stream",
          "name": "stdout",
          "text": [
            "Confusion Matrix=\n",
            " [[4 2]\n",
            " [1 3]]\n"
          ]
        }
      ]
    },
    {
      "cell_type": "code",
      "source": [
        "#matplotlib를 통한 시각화\n",
        "\n",
        "import matplotlib.pyplot as plt\n",
        "import numpy as np\n",
        "def plot_confusion_matrix(cm, classes, normalize=False, title='Confusion matrix', cmap=plt.cm.Blues):\n",
        "\n",
        "  import itertools\n",
        "  if normalize:\n",
        "    cm=cm.astype('float')/cm.sum(axis=1)[:,np.newaxis]\n",
        "    print(\"Normalized confusion matrix\")\n",
        "  else:\n",
        "    print('Confusion matrix, without normalization')\n",
        "\n",
        "  print(cm)\n",
        "\n",
        "  plt.imshow(cm, interpolation='nearest', cmap=cmap)\n",
        "  plt.title(title)\n",
        "  plt.colorbar()\n",
        "  tick_marks=np.arange(len(classes))\n",
        "  plt.xticks(tick_marks, classes, rotation=45)\n",
        "  plt.yticks(tick_marks, classes)\n",
        "\n",
        "  fmt='.2f' if normalize else 'd'\n",
        "  thresh=cm.max()/2\n",
        "  for i,j in itertools.product(range(cm.shape[0]), range(cm.shaple[1])):\n",
        "    plt.text(i,j,format(cm[i,j],fmt), horizontalalignment=\"center\", color=\"white\" if cm[i,j]>thresh else \"black\")\n",
        "\n",
        "  plt.ylabel('True label')\n",
        "  plt.xlabel('Predicted label')\n",
        "  plt.tight_layout()"
      ],
      "metadata": {
        "id": "W7LkarF9iBDb"
      },
      "execution_count": 4,
      "outputs": []
    },
    {
      "cell_type": "code",
      "source": [
        "import numpy as np\n",
        "\n",
        "cnf_matrix=confusion_matrix(y_actual, y_predicted, labels=[0,1])\n",
        "np.set_printoptions(precision=2)\n",
        "\n",
        "plt.figure()\n",
        "plot_confusion_matrix(cnf_matrix, classes=[0,1], title='Confusion matrix, without normalization')"
      ],
      "metadata": {
        "colab": {
          "base_uri": "https://localhost:8080/",
          "height": 828
        },
        "id": "Zhzq82Uyjxvz",
        "outputId": "5e37f175-6a44-4860-f232-0099b5177703"
      },
      "execution_count": 5,
      "outputs": [
        {
          "output_type": "stream",
          "name": "stdout",
          "text": [
            "Confusion matrix, without normalization\n",
            "[[4 2]\n",
            " [1 3]]\n"
          ]
        },
        {
          "output_type": "error",
          "ename": "AttributeError",
          "evalue": "ignored",
          "traceback": [
            "\u001b[0;31m---------------------------------------------------------------------------\u001b[0m",
            "\u001b[0;31mAttributeError\u001b[0m                            Traceback (most recent call last)",
            "\u001b[0;32m<ipython-input-5-249ac88557d1>\u001b[0m in \u001b[0;36m<cell line: 7>\u001b[0;34m()\u001b[0m\n\u001b[1;32m      5\u001b[0m \u001b[0;34m\u001b[0m\u001b[0m\n\u001b[1;32m      6\u001b[0m \u001b[0mplt\u001b[0m\u001b[0;34m.\u001b[0m\u001b[0mfigure\u001b[0m\u001b[0;34m(\u001b[0m\u001b[0;34m)\u001b[0m\u001b[0;34m\u001b[0m\u001b[0;34m\u001b[0m\u001b[0m\n\u001b[0;32m----> 7\u001b[0;31m \u001b[0mplot_confusion_matrix\u001b[0m\u001b[0;34m(\u001b[0m\u001b[0mcnf_matrix\u001b[0m\u001b[0;34m,\u001b[0m \u001b[0mclasses\u001b[0m\u001b[0;34m=\u001b[0m\u001b[0;34m[\u001b[0m\u001b[0;36m0\u001b[0m\u001b[0;34m,\u001b[0m\u001b[0;36m1\u001b[0m\u001b[0;34m]\u001b[0m\u001b[0;34m,\u001b[0m \u001b[0mtitle\u001b[0m\u001b[0;34m=\u001b[0m\u001b[0;34m'Confusion matrix, without normalization'\u001b[0m\u001b[0;34m)\u001b[0m\u001b[0;34m\u001b[0m\u001b[0;34m\u001b[0m\u001b[0m\n\u001b[0m",
            "\u001b[0;32m<ipython-input-4-021ae3450fd6>\u001b[0m in \u001b[0;36mplot_confusion_matrix\u001b[0;34m(cm, classes, normalize, title, cmap)\u001b[0m\n\u001b[1;32m     23\u001b[0m   \u001b[0mfmt\u001b[0m\u001b[0;34m=\u001b[0m\u001b[0;34m'.2f'\u001b[0m \u001b[0;32mif\u001b[0m \u001b[0mnormalize\u001b[0m \u001b[0;32melse\u001b[0m \u001b[0;34m'd'\u001b[0m\u001b[0;34m\u001b[0m\u001b[0;34m\u001b[0m\u001b[0m\n\u001b[1;32m     24\u001b[0m   \u001b[0mthresh\u001b[0m\u001b[0;34m=\u001b[0m\u001b[0mcm\u001b[0m\u001b[0;34m.\u001b[0m\u001b[0mmax\u001b[0m\u001b[0;34m(\u001b[0m\u001b[0;34m)\u001b[0m\u001b[0;34m/\u001b[0m\u001b[0;36m2\u001b[0m\u001b[0;34m\u001b[0m\u001b[0;34m\u001b[0m\u001b[0m\n\u001b[0;32m---> 25\u001b[0;31m   \u001b[0;32mfor\u001b[0m \u001b[0mi\u001b[0m\u001b[0;34m,\u001b[0m\u001b[0mj\u001b[0m \u001b[0;32min\u001b[0m \u001b[0mitertools\u001b[0m\u001b[0;34m.\u001b[0m\u001b[0mproduct\u001b[0m\u001b[0;34m(\u001b[0m\u001b[0mrange\u001b[0m\u001b[0;34m(\u001b[0m\u001b[0mcm\u001b[0m\u001b[0;34m.\u001b[0m\u001b[0mshape\u001b[0m\u001b[0;34m[\u001b[0m\u001b[0;36m0\u001b[0m\u001b[0;34m]\u001b[0m\u001b[0;34m)\u001b[0m\u001b[0;34m,\u001b[0m \u001b[0mrange\u001b[0m\u001b[0;34m(\u001b[0m\u001b[0mcm\u001b[0m\u001b[0;34m.\u001b[0m\u001b[0mshaple\u001b[0m\u001b[0;34m[\u001b[0m\u001b[0;36m1\u001b[0m\u001b[0;34m]\u001b[0m\u001b[0;34m)\u001b[0m\u001b[0;34m)\u001b[0m\u001b[0;34m:\u001b[0m\u001b[0;34m\u001b[0m\u001b[0;34m\u001b[0m\u001b[0m\n\u001b[0m\u001b[1;32m     26\u001b[0m     \u001b[0mplt\u001b[0m\u001b[0;34m.\u001b[0m\u001b[0mtext\u001b[0m\u001b[0;34m(\u001b[0m\u001b[0mi\u001b[0m\u001b[0;34m,\u001b[0m\u001b[0mj\u001b[0m\u001b[0;34m,\u001b[0m\u001b[0mformat\u001b[0m\u001b[0;34m(\u001b[0m\u001b[0mcm\u001b[0m\u001b[0;34m[\u001b[0m\u001b[0mi\u001b[0m\u001b[0;34m,\u001b[0m\u001b[0mj\u001b[0m\u001b[0;34m]\u001b[0m\u001b[0;34m,\u001b[0m\u001b[0mfmt\u001b[0m\u001b[0;34m)\u001b[0m\u001b[0;34m,\u001b[0m \u001b[0mhorizontalalignment\u001b[0m\u001b[0;34m=\u001b[0m\u001b[0;34m\"center\"\u001b[0m\u001b[0;34m,\u001b[0m \u001b[0mcolor\u001b[0m\u001b[0;34m=\u001b[0m\u001b[0;34m\"white\"\u001b[0m \u001b[0;32mif\u001b[0m \u001b[0mcm\u001b[0m\u001b[0;34m[\u001b[0m\u001b[0mi\u001b[0m\u001b[0;34m,\u001b[0m\u001b[0mj\u001b[0m\u001b[0;34m]\u001b[0m\u001b[0;34m>\u001b[0m\u001b[0mthresh\u001b[0m \u001b[0;32melse\u001b[0m \u001b[0;34m\"black\"\u001b[0m\u001b[0;34m)\u001b[0m\u001b[0;34m\u001b[0m\u001b[0;34m\u001b[0m\u001b[0m\n\u001b[1;32m     27\u001b[0m \u001b[0;34m\u001b[0m\u001b[0m\n",
            "\u001b[0;31mAttributeError\u001b[0m: 'numpy.ndarray' object has no attribute 'shaple'"
          ]
        },
        {
          "output_type": "display_data",
          "data": {
            "text/plain": [
              "<Figure size 640x480 with 2 Axes>"
            ],
            "image/png": "[encoded data removed]"
          },
          "metadata": {}
        }
      ]
    },
    {
      "cell_type": "code",
      "source": [
        "print('Accuracy=',accuracy_score(y_actual, y_predicted))\n",
        "print('Report=\\n', classification_report(y_actual,y_predicted))"
      ],
      "metadata": {
        "colab": {
          "base_uri": "https://localhost:8080/"
        },
        "id": "5rN46jWJkK0g",
        "outputId": "060c0801-27e8-4c8a-fea2-fca878788190"
      },
      "execution_count": null,
      "outputs": [
        {
          "output_type": "stream",
          "name": "stdout",
          "text": [
            "Accuracy= 0.7\n",
            "Report=\n",
            "               precision    recall  f1-score   support\n",
            "\n",
            "           0       0.80      0.67      0.73         6\n",
            "           1       0.60      0.75      0.67         4\n",
            "\n",
            "    accuracy                           0.70        10\n",
            "   macro avg       0.70      0.71      0.70        10\n",
            "weighted avg       0.72      0.70      0.70        10\n",
            "\n"
          ]
        }
      ]
    },
    {
      "cell_type": "markdown",
      "source": [
        "#multiclass confusion matrix"
      ],
      "metadata": {
        "id": "016-JDJgXrsH"
      }
    },
    {
      "cell_type": "code",
      "source": [
        "from sklearn.metrics import confusion_matrix\n",
        "from sklearn.metrics import accuracy_score\n",
        "from sklearn.metrics import classification_report"
      ],
      "metadata": {
        "id": "fpE-zmtFXvNj"
      },
      "execution_count": 8,
      "outputs": []
    },
    {
      "cell_type": "code",
      "source": [
        "classes=['Cat','Dog','Rabbit']\n",
        "\n",
        "y_actual=['Cat','Dog','Rabbit','Cat','Cat','Rabbit']\n",
        "y_predicted=['Dog','Dog','Rabbit','Dog','Dog','Rabbit']\n"
      ],
      "metadata": {
        "id": "033eLuKnX9mk"
      },
      "execution_count": 9,
      "outputs": []
    },
    {
      "cell_type": "code",
      "source": [
        "CM=confusion_matrix(y_actual,y_predicted)\n",
        "print('Confusion Matrix=\\n',CM)"
      ],
      "metadata": {
        "colab": {
          "base_uri": "https://localhost:8080/"
        },
        "id": "lwGAg20AYkk_",
        "outputId": "cbadcf04-82a5-4c76-8d4a-afda51308ce5"
      },
      "execution_count": 10,
      "outputs": [
        {
          "output_type": "stream",
          "name": "stdout",
          "text": [
            "Confusion Matrix=\n",
            " [[0 3 0]\n",
            " [0 1 0]\n",
            " [0 0 2]]\n"
          ]
        }
      ]
    },
    {
      "cell_type": "code",
      "source": [
        "#matplotlib를 통한 시각화\n",
        "\n",
        "import matplotlib.pyplot as plt\n",
        "\n",
        "def plot_confusion_matrix(cm, classes, normalize=False, title='Confusion matrix', cmap=plt.cm.Blues):\n",
        "  import itertools\n",
        "  if normalize:\n",
        "    cm=cm.astype('float')/cm.sum(axis=1)[:, np.newaxis]\n",
        "    print(\"Normalized confusion matrix\")\n",
        "\n",
        "  else:\n",
        "    print('Confusion matrix, without normalization')\n",
        "\n",
        "  print(cm)\n",
        "\n",
        "\n"
      ],
      "metadata": {
        "id": "0rRScFpcYwOi"
      },
      "execution_count": 11,
      "outputs": []
    },
    {
      "cell_type": "code",
      "source": [
        "import numpy as np\n",
        "cnf_matrix=confusion_matrix(y_actual, y_predicted, labels=['Cat', 'Dog', 'Rabbit'])\n",
        "np.set_printoptions(precision=2)\n",
        "\n",
        "\n",
        "plot_confusion_matrix(cnf_matrix, classes=['Cat','Dog','Rabbit'],\n",
        "                      title='Confusion matrix, without normalization')"
      ],
      "metadata": {
        "colab": {
          "base_uri": "https://localhost:8080/"
        },
        "id": "UmJj3ESya6KO",
        "outputId": "3155f077-6e6b-44c9-d213-54ec150c7c06"
      },
      "execution_count": 12,
      "outputs": [
        {
          "output_type": "stream",
          "name": "stdout",
          "text": [
            "Confusion matrix, without normalization\n",
            "[[0 3 0]\n",
            " [0 1 0]\n",
            " [0 0 2]]\n"
          ]
        }
      ]
    },
    {
      "cell_type": "code",
      "source": [
        "#accuracy\n",
        "\n",
        "print('Accuracy=',accuracy_score(y_actual, y_predicted))\n",
        "print('Report=\\n',classification_report(y_actual, y_predicted))"
      ],
      "metadata": {
        "colab": {
          "base_uri": "https://localhost:8080/"
        },
        "id": "UHqE4ijDbhBu",
        "outputId": "a1ad82d8-1adc-4609-a33b-7fad6b7e56db"
      },
      "execution_count": null,
      "outputs": [
        {
          "output_type": "stream",
          "name": "stdout",
          "text": [
            "Accuracy= 0.5\n",
            "Report=\n",
            "               precision    recall  f1-score   support\n",
            "\n",
            "         Cat       0.00      0.00      0.00         3\n",
            "         Dog       0.25      1.00      0.40         1\n",
            "      Rabbit       1.00      1.00      1.00         2\n",
            "\n",
            "    accuracy                           0.50         6\n",
            "   macro avg       0.42      0.67      0.47         6\n",
            "weighted avg       0.38      0.50      0.40         6\n",
            "\n"
          ]
        },
        {
          "output_type": "stream",
          "name": "stderr",
          "text": [
            "/usr/local/lib/python3.9/dist-packages/sklearn/metrics/_classification.py:1344: UndefinedMetricWarning: Precision and F-score are ill-defined and being set to 0.0 in labels with no predicted samples. Use `zero_division` parameter to control this behavior.\n",
            "  _warn_prf(average, modifier, msg_start, len(result))\n",
            "/usr/local/lib/python3.9/dist-packages/sklearn/metrics/_classification.py:1344: UndefinedMetricWarning: Precision and F-score are ill-defined and being set to 0.0 in labels with no predicted samples. Use `zero_division` parameter to control this behavior.\n",
            "  _warn_prf(average, modifier, msg_start, len(result))\n",
            "/usr/local/lib/python3.9/dist-packages/sklearn/metrics/_classification.py:1344: UndefinedMetricWarning: Precision and F-score are ill-defined and being set to 0.0 in labels with no predicted samples. Use `zero_division` parameter to control this behavior.\n",
            "  _warn_prf(average, modifier, msg_start, len(result))\n"
          ]
        }
      ]
    },
    {
      "cell_type": "markdown",
      "source": [
        "#Artificial Data"
      ],
      "metadata": {
        "id": "ur2Aku68b8HC"
      }
    },
    {
      "cell_type": "code",
      "source": [
        "import tensorflow as tf\n",
        "import numpy as np\n",
        "import pandas as pd\n",
        "import matplotlib.pyplot as plt\n"
      ],
      "metadata": {
        "id": "jbOJc0LVb_K5"
      },
      "execution_count": 13,
      "outputs": []
    },
    {
      "cell_type": "code",
      "source": [
        "x_train=np.array([[1.,1.],\n",
        "                  [1.,2.],\n",
        "                  [2.,1.],\n",
        "                  [3.,2.],\n",
        "                  [3.,3.],\n",
        "                  [2.,3.]],\n",
        "                 dtype=np.float32)\n",
        "y_train=np.array([[0.],\n",
        "                  [0.],\n",
        "                  [0.],\n",
        "                  [1],\n",
        "                  [1.],\n",
        "                  [1.]],\n",
        "                 dtype=np.float32)"
      ],
      "metadata": {
        "id": "Iqjkll0ocG2C"
      },
      "execution_count": 14,
      "outputs": []
    },
    {
      "cell_type": "code",
      "source": [
        "#분류\n",
        "\n",
        "colors=['red' if I==0 else 'blue' for I in y_train]\n",
        "plt.scatter(x_train[:,0], x_train[:,1], label='Logistics regression', color=colors)\n",
        "plt.show\n"
      ],
      "metadata": {
        "colab": {
          "base_uri": "https://localhost:8080/",
          "height": 448
        },
        "id": "j4AnSYs0dE6O",
        "outputId": "301638e6-563d-4d56-ce2f-b327fa3bbd3a"
      },
      "execution_count": 15,
      "outputs": [
        {
          "output_type": "execute_result",
          "data": {
            "text/plain": [
              "<function matplotlib.pyplot.show(close=None, block=None)>"
            ]
          },
          "metadata": {},
          "execution_count": 15
        },
        {
          "output_type": "display_data",
          "data": {
            "text/plain": [
              "<Figure size 640x480 with 1 Axes>"
            ],
            "image/png": "[encoded data removed]"
          },
          "metadata": {}
        }
      ]
    },
    {
      "cell_type": "code",
      "source": [
        "#hypothesis\n",
        "\n",
        "tf.random.set_seed(2020)\n",
        "W=tf.Variable(tf.random.normal([2,1],mean=0.0))\n",
        "b=tf.Variable(tf.random.normal([1], mean=0.0))\n",
        "\n",
        "print('# Weights:\\n', W.numpy(), '\\n\\n# Bias: \\n', b.numpy())\n",
        "\n",
        "def hypothesis(X):\n",
        "  z=tf.matmul(X,W)+b\n",
        "  sigmoid=1/(1+tf.exp(-z))\n",
        "  return sigmoid\n",
        "\n",
        "\n",
        "#cost function\n",
        "def cost_fn(H,Y):\n",
        "  cost=-tf.reduce_mean(Y*tf.math.log(H)+(1-Y)*tf.math.log(1-H))\n",
        "  return cost\n",
        "\n",
        "\n",
        "#minimize cost function\n",
        "learning_rate=0.01\n",
        "optimizer=tf.optimizers.SGD(learning_rate)"
      ],
      "metadata": {
        "colab": {
          "base_uri": "https://localhost:8080/"
        },
        "id": "p1eVEi70dhla",
        "outputId": "c8d583a4-b3d4-409f-ca0a-bebad152778b"
      },
      "execution_count": 16,
      "outputs": [
        {
          "output_type": "stream",
          "name": "stdout",
          "text": [
            "# Weights:\n",
            " [[-0.1 ]\n",
            " [ 0.68]] \n",
            "\n",
            "# Bias: \n",
            " [0.38]\n"
          ]
        }
      ]
    },
    {
      "cell_type": "code",
      "source": [
        "#train\n",
        "\n",
        "for step in range(5001):\n",
        "  with tf.GradientTape() as g:\n",
        "    pred=hypothesis(x_train)\n",
        "    cost=cost_fn(pred,y_train)\n",
        "\n",
        "    gradients=g.gradient(cost,[W,b])\n",
        "\n",
        "#gradeinte 따른 가중치, bias 업뎃\n",
        "  optimizer.apply_gradients(zip(gradients,[W,b]))\n",
        "\n",
        "  if step%200==0:\n",
        "    print(\"step=\", '%04d' %(step+1),\"cost={}, W={}, b={}\".format(cost, W.numpy(), b.numpy()))\n",
        "  \n",
        "w_hat=W.numpy()\n",
        "b_hat=b.numpy()"
      ],
      "metadata": {
        "colab": {
          "base_uri": "https://localhost:8080/"
        },
        "id": "T5ZEK7fzebaB",
        "outputId": "4931d606-2d6e-4b7e-f2b6-9a4e31635655"
      },
      "execution_count": 17,
      "outputs": [
        {
          "output_type": "stream",
          "name": "stdout",
          "text": [
            "step= 0001 cost=0.7932398319244385, W=[[-0.1 ]\n",
            " [ 0.68]], b=[0.38]\n",
            "step= 0201 cost=0.6531265377998352, W=[[-0.2 ]\n",
            " [ 0.49]], b=[0.01]\n",
            "step= 0401 cost=0.6122190952301025, W=[[-0.09]\n",
            " [ 0.49]], b=[-0.26]\n",
            "step= 0601 cost=0.5754209160804749, W=[[0.01]\n",
            " [0.51]], b=[-0.51]\n",
            "step= 0801 cost=0.5422459840774536, W=[[0.1 ]\n",
            " [0.53]], b=[-0.75]\n",
            "step= 1001 cost=0.5122759938240051, W=[[0.18]\n",
            " [0.55]], b=[-0.98]\n",
            "step= 1201 cost=0.48513635993003845, W=[[0.26]\n",
            " [0.58]], b=[-1.2]\n",
            "step= 1401 cost=0.4604956805706024, W=[[0.33]\n",
            " [0.6 ]], b=[-1.41]\n",
            "step= 1601 cost=0.43806231021881104, W=[[0.4 ]\n",
            " [0.63]], b=[-1.6]\n",
            "step= 1801 cost=0.417581707239151, W=[[0.46]\n",
            " [0.66]], b=[-1.8]\n",
            "step= 2001 cost=0.39883172512054443, W=[[0.51]\n",
            " [0.69]], b=[-1.98]\n",
            "step= 2201 cost=0.3816189467906952, W=[[0.57]\n",
            " [0.72]], b=[-2.15]\n",
            "step= 2401 cost=0.3657747209072113, W=[[0.62]\n",
            " [0.75]], b=[-2.32]\n",
            "step= 2601 cost=0.35115230083465576, W=[[0.66]\n",
            " [0.78]], b=[-2.48]\n",
            "step= 2801 cost=0.33762332797050476, W=[[0.71]\n",
            " [0.81]], b=[-2.64]\n",
            "step= 3001 cost=0.32507583498954773, W=[[0.75]\n",
            " [0.84]], b=[-2.79]\n",
            "step= 3201 cost=0.3134114444255829, W=[[0.79]\n",
            " [0.87]], b=[-2.93]\n",
            "step= 3401 cost=0.3025437593460083, W=[[0.83]\n",
            " [0.89]], b=[-3.07]\n",
            "step= 3601 cost=0.292397141456604, W=[[0.87]\n",
            " [0.92]], b=[-3.21]\n",
            "step= 3801 cost=0.2829042971134186, W=[[0.9 ]\n",
            " [0.95]], b=[-3.34]\n",
            "step= 4001 cost=0.27400580048561096, W=[[0.94]\n",
            " [0.98]], b=[-3.46]\n",
            "step= 4201 cost=0.2656490206718445, W=[[0.97]\n",
            " [1.01]], b=[-3.59]\n",
            "step= 4401 cost=0.25778698921203613, W=[[1.  ]\n",
            " [1.03]], b=[-3.7]\n",
            "step= 4601 cost=0.2503780424594879, W=[[1.03]\n",
            " [1.06]], b=[-3.82]\n",
            "step= 4801 cost=0.24338483810424805, W=[[1.06]\n",
            " [1.08]], b=[-3.93]\n",
            "step= 5001 cost=0.2367737740278244, W=[[1.08]\n",
            " [1.11]], b=[-4.04]\n"
          ]
        }
      ]
    },
    {
      "cell_type": "code",
      "source": [
        "#visualization(시각화)\n",
        "\n",
        "slope=w_hat[0]/w_hat[1]\n",
        "xx=np.linspace(np.min(x_train[:,0]),np.max(x_train[:,0]))\n",
        "yy=-slope*xx-b_hat/w_hat[1]\n",
        "\n",
        "colors=['red' if I==0 else 'blue' for I in y_train]\n",
        "plt.xlabel(\"auto transport\")\n",
        "plt.ylabel(\"public transport\")\n",
        "plt.scatter(x_train[:,0],x_train[:,1],label='Logistics regression', color=colors)\n",
        "plt.plot(xx,yy,label='Decision Boundary')\n",
        "plt.show()"
      ],
      "metadata": {
        "colab": {
          "base_uri": "https://localhost:8080/",
          "height": 449
        },
        "id": "f21k9kxDfI2u",
        "outputId": "e357216b-8d80-4ceb-a847-52d8bae0d08d"
      },
      "execution_count": 18,
      "outputs": [
        {
          "output_type": "display_data",
          "data": {
            "text/plain": [
              "<Figure size 640x480 with 1 Axes>"
            ],
            "image/png": "[encoded data removed]"
          },
          "metadata": {}
        }
      ]
    },
    {
      "cell_type": "code",
      "source": [
        "#accuracy\n",
        "\n",
        "def accuracy(hypo, label):\n",
        "  predicted=tf.cast(hypo>0.5, dtype=tf.float32)\n",
        "  accuracyd=tf.reduce_mean(tf.cast(tf.equal(predicted, label),dtype=tf.float32))\n",
        "  return accuracyd\n",
        "\n",
        "acc=accuracy(hypothesis(x_test),y_test).numpy()\n",
        "print(\"Accuracy: %s\" % acc)"
      ],
      "metadata": {
        "colab": {
          "base_uri": "https://localhost:8080/"
        },
        "id": "6Z9efgqKgcV_",
        "outputId": "2bb67796-a924-4179-d9d6-a2e8e30bdab0"
      },
      "execution_count": 22,
      "outputs": [
        {
          "output_type": "stream",
          "name": "stdout",
          "text": [
            "Accuracy: 1.0\n"
          ]
        }
      ]
    },
    {
      "cell_type": "code",
      "source": [
        "#prediction\n",
        "\n",
        "x_test=np.array([[3.,0.],\n",
        "                 [4., 1.]],\n",
        "                dtype=np.float32)\n",
        "y_test=np.array([[0.],\n",
        "                 [1.]],\n",
        "                dtype=np.float32)\n",
        "x_test_predict=hypothesis(x_test)\n",
        "print(\"Prob:\\n\", x_test_predict.numpy())\n",
        "print(\"Result:\\n\",tf.cast(x_test_predict>0.5,dtype=tf.float32).numpy())"
      ],
      "metadata": {
        "colab": {
          "base_uri": "https://localhost:8080/"
        },
        "id": "y3FRlh4HhaB5",
        "outputId": "458b0c5f-4df9-40a2-8ee7-74b66f687221"
      },
      "execution_count": 21,
      "outputs": [
        {
          "output_type": "stream",
          "name": "stdout",
          "text": [
            "Prob:\n",
            " [[0.31]\n",
            " [0.8 ]]\n",
            "Result:\n",
            " [[0.]\n",
            " [1.]]\n"
          ]
        }
      ]
    }
  ]
}