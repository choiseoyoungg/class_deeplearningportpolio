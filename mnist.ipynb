{
  "nbformat": 4,
  "nbformat_minor": 0,
  "metadata": {
    "colab": {
      "provenance": [],
      "authorship_tag": "ABX9TyMHoEY1hBie1xCPnZYfuf3g",
      "include_colab_link": true
    },
    "kernelspec": {
      "name": "python3",
      "display_name": "Python 3"
    },
    "language_info": {
      "name": "python"
    }
  },
  "cells": [
    {
      "cell_type": "markdown",
      "metadata": {
        "id": "view-in-github",
        "colab_type": "text"
      },
      "source": [
        "<a href=\"https://colab.research.google.com/github/choiseoyoungg/class_deeplearningportpolio/blob/main/mnist.ipynb\" target=\"_parent\"><img src=\"https://colab.research.google.com/assets/colab-badge.svg\" alt=\"Open In Colab\"/></a>"
      ]
    },
    {
      "cell_type": "code",
      "execution_count": 1,
      "metadata": {
        "id": "DhCJHljcnwR2"
      },
      "outputs": [],
      "source": [
        "import tensorflow as tf\n",
        "import numpy as np\n",
        "import matplotlib.pyplot as plt\n",
        "%matplotlib inline"
      ]
    },
    {
      "cell_type": "code",
      "source": [
        "from tensorflow.keras.datasets import mnist\n",
        "\n",
        "(x_train, y_train),(x_test,y_test)=mnist.load_data()\n",
        "print(x_train.shape, y_train.shape, y_train[0])\n",
        "print(x_test.shape, y_test.shape, y_test[0])"
      ],
      "metadata": {
        "colab": {
          "base_uri": "https://localhost:8080/"
        },
        "id": "3nmN49K_n59M",
        "outputId": "b413e557-326a-4194-df40-7266621efca1"
      },
      "execution_count": 2,
      "outputs": [
        {
          "output_type": "stream",
          "name": "stdout",
          "text": [
            "Downloading data from https://storage.googleapis.com/tensorflow/tf-keras-datasets/mnist.npz\n",
            "11490434/11490434 [==============================] - 1s 0us/step\n",
            "(60000, 28, 28) (60000,) 5\n",
            "(10000, 28, 28) (10000,) 7\n"
          ]
        }
      ]
    },
    {
      "cell_type": "code",
      "source": [
        "class_names=['zero','one','two','three','four','five','six','seven','eight','nine']\n",
        "\n",
        "plt.figure(figsize=(10,10))\n",
        "for i in range(16):\n",
        "  plt.subplot(4,4,i+1) #가로,세로 출력 크기\n",
        "  plt.xticks([])\n",
        "  plt.yticks([])\n",
        "  img=x_train[i].reshape(28,28)\n",
        "  plt.imshow(img, cmap=plt.cm.binary)\n",
        "  plt.xlabel(class_names[y_train[i]])\n",
        "\n",
        "\n",
        "plt.show"
      ],
      "metadata": {
        "colab": {
          "base_uri": "https://localhost:8080/",
          "height": 844
        },
        "id": "A4iMhVAqob52",
        "outputId": "ebea3625-3ae5-4e03-befa-bb4f0bd38b2b"
      },
      "execution_count": 3,
      "outputs": [
        {
          "output_type": "execute_result",
          "data": {
            "text/plain": [
              "<function matplotlib.pyplot.show(close=None, block=None)>"
            ]
          },
          "metadata": {},
          "execution_count": 3
        },
        {
          "output_type": "display_data",
          "data": {
            "text/plain": [
              "<Figure size 1000x1000 with 16 Axes>"
            ],
            "image/png": "[encoded data removed]"
          },
          "metadata": {}
        }
      ]
    },
    {
      "cell_type": "code",
      "source": [
        "#parameters\n",
        "learning_rate=0.01\n",
        "training_steps=1000\n",
        "batch_size=256   #빅데이터 한번에 학습시 메모리부족 직면, 쪼개지는 샘플의 수\n",
        "\n",
        "\n",
        "#mnist dataset parameters\n",
        "num_classes=10\n",
        "num_features=784"
      ],
      "metadata": {
        "id": "KVWAyyOMpHr-"
      },
      "execution_count": 4,
      "outputs": []
    },
    {
      "cell_type": "code",
      "source": [
        "#convert to float32\n",
        "x_train, x_test=np.array(x_train, np.float32), np.array(x_test, np.float32)\n",
        "\n",
        "\n",
        "x_train, x_test= x_train.reshape([-1,num_features]),x_test.reshape([-1,num_features])\n",
        "print(x_train.shape,x_test.shape)\n",
        "\n",
        "#normalize images(데이터단위 통일을 위해)\n",
        "x_train,x_test=x_train/255, x_test/255"
      ],
      "metadata": {
        "colab": {
          "base_uri": "https://localhost:8080/"
        },
        "id": "gGrQkyudpQ9N",
        "outputId": "f57f2602-d497-47a8-f960-5c192e7880f4"
      },
      "execution_count": 5,
      "outputs": [
        {
          "output_type": "stream",
          "name": "stdout",
          "text": [
            "(60000, 784) (10000, 784)\n"
          ]
        }
      ]
    },
    {
      "cell_type": "code",
      "source": [
        "#hypothesis and prediction function\n",
        "\n",
        "W=tf.Variable(tf.ones([num_features, num_classes]),name=\"weight\")\n",
        "b=tf.Variable(tf.zeros([num_classes]),name=\"bias\")\n"
      ],
      "metadata": {
        "id": "jg4yxxhFpt9J"
      },
      "execution_count": 6,
      "outputs": []
    },
    {
      "cell_type": "code",
      "source": [
        "#softmax function\n",
        "\n",
        "def softmax(x):\n",
        "  z=tf.matmul(x,W)+b\n",
        "  sm=tf.nn.softmax(z)\n",
        "  return sm\n",
        "\n",
        "\n",
        "#cross enteropy cost/loss function\n",
        "def cross_entropy(y_pred, y_true):\n",
        "  y_true=tf.one_hot(y_true, depth=num_classes)\n",
        "\n",
        "  y_pred=tf.clip_by_value(y_pred, 1e-9, 1.)\n",
        "\n",
        "  return tf.reduce_mean(-tf.reduce_sum(y_true*tf.math.log(y_pred),axis=1))\n",
        "\n",
        "\n",
        "#minimize cost function\n",
        "optimizer=tf.optimizers.SGD(learning_rate)"
      ],
      "metadata": {
        "id": "O3w6LQ8BzTFu"
      },
      "execution_count": 7,
      "outputs": []
    },
    {
      "cell_type": "code",
      "source": [
        "#Accuracy metric\n",
        "def accuracy(y_pred, y_true):\n",
        "  correct_prediction=tf.equal(tf.argmax(y_pred,1),tf.cast(y_true,tf.int64))\n",
        "  return tf.reduce_mean(tf.cast(correct_prediction, tf.float32))"
      ],
      "metadata": {
        "id": "wLQhgsfB0DNX"
      },
      "execution_count": 8,
      "outputs": []
    },
    {
      "cell_type": "code",
      "source": [
        "#optimization process\n",
        "def run_optimization(x,y):\n",
        "  with tf.GradientTape() as g:\n",
        "    pred=softmax(x)\n",
        "    cost=cross_entropy(pred,y)\n",
        "\n",
        "  #자동미분\n",
        "  gradients=g.gradient(cost,[W,b])\n",
        "  optimizer.apply_gradients(zip(gradients,[W,b]))"
      ],
      "metadata": {
        "id": "7D_tKlqh0an-"
      },
      "execution_count": 9,
      "outputs": []
    },
    {
      "cell_type": "code",
      "source": [
        "#직관적인 코드\n",
        "n_train=x_train.shape[0]\n",
        "n_test=x_test.shape[0]\n",
        "\n",
        "def train_batch_maker(betch_size):\n",
        "  random_idx=np.random.randint(n_train, size=batch_size)\n",
        "  return x_train[random_idx],y_train[random_idx]\n",
        "\n",
        "def test_batch_maker(batch_size):\n",
        "  random_idx=np.random.randint(n_test, size=batch_size)\n",
        "  return x_test[random_idx], y_test[random_idx]"
      ],
      "metadata": {
        "id": "RdgW8pli3mkW"
      },
      "execution_count": 10,
      "outputs": []
    },
    {
      "cell_type": "code",
      "source": [
        "for step in range(training_steps):\n",
        "  batch_x, batch_y=train_batch_maker(batch_size)\n",
        "\n",
        "  #run optimization to update W and b values\n",
        "  run_optimization(batch_x,batch_y)\n",
        "\n",
        "  if step%100==0:\n",
        "    pred=softmax(batch_x)\n",
        "    cost=cross_entropy(pred,batch_y)\n",
        "    acc=accuracy(pred,batch_y)\n",
        "    print(\"step:%i,loss:%f,accuracy:%f\"%(step,cost,acc))\n",
        "    \n",
        "#loss값 줄이는 과정 "
      ],
      "metadata": {
        "colab": {
          "base_uri": "https://localhost:8080/"
        },
        "id": "oMBCZ31H2pcc",
        "outputId": "8afcef9e-8624-4c40-ca6a-a669739686d8"
      },
      "execution_count": 11,
      "outputs": [
        {
          "output_type": "stream",
          "name": "stdout",
          "text": [
            "step:0,loss:2.286159,accuracy:0.382812\n",
            "step:100,loss:1.524374,accuracy:0.820312\n",
            "step:200,loss:1.163537,accuracy:0.812500\n",
            "step:300,loss:1.036838,accuracy:0.773438\n",
            "step:400,loss:0.863582,accuracy:0.847656\n",
            "step:500,loss:0.762747,accuracy:0.859375\n",
            "step:600,loss:0.733521,accuracy:0.851562\n",
            "step:700,loss:0.712706,accuracy:0.832031\n",
            "step:800,loss:0.607367,accuracy:0.875000\n",
            "step:900,loss:0.691976,accuracy:0.812500\n"
          ]
        }
      ]
    },
    {
      "cell_type": "code",
      "source": [],
      "metadata": {
        "id": "tA8QErZ44do6"
      },
      "execution_count": null,
      "outputs": []
    },
    {
      "cell_type": "code",
      "source": [
        "\n",
        "pred=softmax(x_test)\n",
        "print(\"Test Accuracy:%f\"%accuracy(pred,y_test))\n"
      ],
      "metadata": {
        "colab": {
          "base_uri": "https://localhost:8080/"
        },
        "id": "NbDDCmxp4kS-",
        "outputId": "2350b653-b93f-495b-c737-1c29be0262ed"
      },
      "execution_count": 12,
      "outputs": [
        {
          "output_type": "stream",
          "name": "stdout",
          "text": [
            "Test Accuracy:0.869600\n"
          ]
        }
      ]
    },
    {
      "cell_type": "code",
      "source": [
        "\n",
        "n_images=3\n",
        "test_images=x_test[:n_images]\n",
        "predictions=softmax(test_images)\n",
        "\n",
        "\n",
        "#display image and model prediction\n",
        "plt.figure(figsize=(10,10))\n",
        "for i in range(n_images):\n",
        "  plt.subplot(1,3,i+1)\n",
        "  plt.imshow(np.reshape(test_images[i], [28,28]),cmap=plt.cm.binary)\n",
        "  plt.xlabel(np.argmax(predictions.numpy()[i]))\n",
        "plt.show()"
      ],
      "metadata": {
        "colab": {
          "base_uri": "https://localhost:8080/",
          "height": 309
        },
        "id": "fWt3iEwd5N0O",
        "outputId": "40005fda-4c43-4a5c-8c41-99eba23e2efe"
      },
      "execution_count": 15,
      "outputs": [
        {
          "output_type": "display_data",
          "data": {
            "text/plain": [
              "<Figure size 1000x1000 with 3 Axes>"
            ],
            "image/png": "[encoded data removed]"
          },
          "metadata": {}
        }
      ]
    }
  ]
}