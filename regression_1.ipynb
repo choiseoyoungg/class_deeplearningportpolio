{
  "nbformat": 4,
  "nbformat_minor": 0,
  "metadata": {
    "colab": {
      "provenance": [],
      "authorship_tag": "ABX9TyMetNEf9P3s8o3QWNKEAONx",
      "include_colab_link": true
    },
    "kernelspec": {
      "name": "python3",
      "display_name": "Python 3"
    },
    "language_info": {
      "name": "python"
    }
  },
  "cells": [
    {
      "cell_type": "markdown",
      "metadata": {
        "id": "view-in-github",
        "colab_type": "text"
      },
      "source": [
        "<a href=\"https://colab.research.google.com/github/choiseoyoungg/class_deeplearningportpolio/blob/main/regression_1.ipynb\" target=\"_parent\"><img src=\"https://colab.research.google.com/assets/colab-badge.svg\" alt=\"Open In Colab\"/></a>"
      ]
    },
    {
      "cell_type": "code",
      "execution_count": null,
      "metadata": {
        "id": "JpjfO0eE-mvE"
      },
      "outputs": [],
      "source": []
    },
    {
      "cell_type": "markdown",
      "source": [
        "1. "
      ],
      "metadata": {
        "id": "-pGaV4NK-nq9"
      }
    },
    {
      "cell_type": "code",
      "source": [
        "import tensorflow as tf\n"
      ],
      "metadata": {
        "id": "oYa8TpHs-pBc"
      },
      "execution_count": 1,
      "outputs": []
    },
    {
      "cell_type": "code",
      "source": [
        "X=[1,2,3]\n",
        "Y=[1,2,3]\n",
        "\n",
        "#hypothesis\n",
        "W=tf.Variable(tf.random.normal([1]), name='weight')\n",
        "b=tf.Variable(tf.random.normal([1]), name='bias')\n",
        "\n",
        "def hypothesis(x):\n",
        "  return W*x+b\n",
        "\n",
        "#cost function\n",
        "def cost_fn(y_pred, y_true):\n",
        "  return tf.reduce_mean(tf.square(y_pred-y_true))\n",
        "\n",
        "#decent algorithm\n",
        "optimizer=tf.optimizers.SGD(learning_rate=0.01)"
      ],
      "metadata": {
        "id": "clK_WeoK-wKk"
      },
      "execution_count": 3,
      "outputs": []
    },
    {
      "cell_type": "code",
      "source": [
        "#train\n",
        "def train():\n",
        "  with tf.GradientTape() as g:\n",
        "    pred=hypothesis(X)\n",
        "    cost=cost_fn(pred,Y)\n",
        "\n",
        "  #gradient 계산\n",
        "  gradients=g.gradient(cost, [W,b])\n",
        "\n",
        "  #가중치, bias 업뎃\n",
        "  optimizer.apply_gradients(zip(gradients,[W,b]))"
      ],
      "metadata": {
        "id": "SNig-_gJ_h-E"
      },
      "execution_count": 4,
      "outputs": []
    },
    {
      "cell_type": "code",
      "source": [
        "#가중치, bias 업데이트를 위한 학습\n",
        "for step in range(2001):\n",
        "  train()\n",
        "\n",
        "  if step%500==0:\n",
        "    pred=hypothesis(X)\n",
        "    cost=cost_fn(pred,Y)\n",
        "\n",
        "    print(\"step={}, cost={}, W={}, b={}\".format(step+1, cost, W.numpy(),b.numpy()))\n",
        "    "
      ],
      "metadata": {
        "colab": {
          "base_uri": "https://localhost:8080/"
        },
        "id": "sOvxh_UrLhOW",
        "outputId": "5435f3a5-72bb-422f-9e64-8340a2b4bc97"
      },
      "execution_count": 5,
      "outputs": [
        {
          "output_type": "stream",
          "name": "stdout",
          "text": [
            "step=1, cost=17.741914749145508, W=[-1.1614146], b=[0.49824557]\n",
            "step=501, cost=0.01905301958322525, W=[0.83968365], b=[0.36443675]\n",
            "step=1001, cost=0.0017166977049782872, W=[0.9518781], b=[0.10939244]\n",
            "step=1501, cost=0.00015467451885342598, W=[0.9855554], b=[0.03283601]\n",
            "step=2001, cost=1.3935817150922958e-05, W=[0.99566424], b=[0.00985624]\n"
          ]
        }
      ]
    },
    {
      "cell_type": "code",
      "source": [
        "for step in range(2001):\n",
        "  train()\n",
        "\n",
        "  if step%500==0:\n",
        "    pred=hypothesis(X)\n",
        "    cost=cost_fn(pred, Y)\n",
        "    print(\"step=\", '%04d'%(step+1),\"cost={}, W={}, b={}\".format(cost, W.numpy(), b.numpy()))"
      ],
      "metadata": {
        "colab": {
          "base_uri": "https://localhost:8080/"
        },
        "id": "Nw6zxDLeMUC_",
        "outputId": "e00ad519-e68c-477b-ccc6-a0cb326a642a"
      },
      "execution_count": 6,
      "outputs": [
        {
          "output_type": "stream",
          "name": "stdout",
          "text": [
            "step= 0001 cost=1.386891381116584e-05, W=[0.99567467], b=[0.00983255]\n",
            "step= 0501 cost=1.249802267011546e-06, W=[0.9987016], b=[0.00295158]\n",
            "step= 1001 cost=1.1277396794184824e-07, W=[0.99960995], b=[0.00088652]\n",
            "step= 1501 cost=1.0234567859868093e-08, W=[0.9998826], b=[0.00026699]\n",
            "step= 2001 cost=9.281582724618431e-10, W=[0.99996454], b=[8.052986e-05]\n"
          ]
        }
      ]
    },
    {
      "cell_type": "code",
      "source": [
        "#시각화\n",
        "import matplotlib.pyplot as plt\n",
        "import numpy as np\n",
        "\n",
        "plt.plot(X,Y,'ro',label='Orginal Data')\n",
        "plt.plot(X, np.array(W*X+b), label='Fitted Line')\n",
        "plt.legend()\n",
        "plt.title('linear regression')\n",
        "plt.xlabel(\"x\")\n",
        "plt.ylabel(\"y\")\n",
        "plt.show()"
      ],
      "metadata": {
        "colab": {
          "base_uri": "https://localhost:8080/",
          "height": 472
        },
        "id": "53rBwp1NM4Sy",
        "outputId": "30e8f0d1-50b2-4f96-e02d-88fddfe5fbc3"
      },
      "execution_count": 7,
      "outputs": [
        {
          "output_type": "display_data",
          "data": {
            "text/plain": [
              "<Figure size 640x480 with 1 Axes>"
            ],
            "image/png": "[encoded data removed]"
          },
          "metadata": {}
        }
      ]
    },
    {
      "cell_type": "code",
      "source": [
        "#prediction\n",
        "\n",
        "x_test=[10]\n",
        "x_test_predict=np.array(x_test*W+b)\n",
        "print(\"**************\")\n",
        "print(\"if 10 appear, then coreect!!!\",x_test_predict)"
      ],
      "metadata": {
        "colab": {
          "base_uri": "https://localhost:8080/"
        },
        "id": "jc92qmS9Na1V",
        "outputId": "14fd223b-86bb-4c19-cadd-c9c0711ae641"
      },
      "execution_count": 8,
      "outputs": [
        {
          "output_type": "stream",
          "name": "stdout",
          "text": [
            "**************\n",
            "if 10 appear, then coreect!!! [9.999725]\n"
          ]
        }
      ]
    }
  ]
}